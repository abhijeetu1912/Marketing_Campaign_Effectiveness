{
  "nbformat": 4,
  "nbformat_minor": 0,
  "metadata": {
    "colab": {
      "name": "IBM_Assignment.ipynb",
      "provenance": [],
      "collapsed_sections": []
    },
    "kernelspec": {
      "name": "python3",
      "display_name": "Python 3"
    }
  },
  "cells": [
    {
      "cell_type": "code",
      "metadata": {
        "colab": {
          "base_uri": "https://localhost:8080/"
        },
        "id": "n-RQZ-P0ESKj",
        "outputId": "2eab50e2-e75b-4c9a-a5be-0d5b599035e2"
      },
      "source": [
        "from google.colab import drive\n",
        "drive.mount('/content/gdrive')"
      ],
      "execution_count": 1,
      "outputs": [
        {
          "output_type": "stream",
          "text": [
            "Drive already mounted at /content/gdrive; to attempt to forcibly remount, call drive.mount(\"/content/gdrive\", force_remount=True).\n"
          ],
          "name": "stdout"
        }
      ]
    },
    {
      "cell_type": "code",
      "metadata": {
        "id": "vwvTpUNjDERJ"
      },
      "source": [
        "import warnings\n",
        "warnings.filterwarnings(\"ignore\")\n",
        "\n",
        "import numpy as np\n",
        "import pandas as pd\n",
        "\n",
        "import matplotlib.pyplot as plt\n",
        "import seaborn as sns\n",
        "\n",
        "from scipy import stats\n",
        "\n",
        "from imblearn.combine import SMOTEENN\n",
        "\n",
        "from sklearn.preprocessing import StandardScaler\n",
        "from sklearn.model_selection import train_test_split\n",
        "from sklearn.linear_model import LogisticRegression #for Logistic Regression Classifier\n",
        "from sklearn.tree import DecisionTreeClassifier, export_text #for Decision Tree Classifier\n",
        "from sklearn.ensemble import RandomForestClassifier #for Random Forest Classifier\n",
        "from sklearn.model_selection import train_test_split #for train_test_split function\n",
        "\n",
        "from sklearn.metrics import confusion_matrix, accuracy_score, precision_score, recall_score, f1_score, roc_auc_score  #for model performance metrics"
      ],
      "execution_count": 2,
      "outputs": []
    },
    {
      "cell_type": "code",
      "metadata": {
        "colab": {
          "base_uri": "https://localhost:8080/",
          "height": 249
        },
        "id": "UBhouhwnEB5C",
        "outputId": "2947d8f1-be00-4c6a-f007-4a5bf8f1bbaf"
      },
      "source": [
        "#reading data\n",
        "df = pd.read_csv('/content/gdrive/My Drive/IBM_Assignment/Financial Dataset.csv', delimiter = ';') \n",
        "print(\"Number of Rows & Columns :\", df.shape, \"\\n\")\n",
        "df.head()"
      ],
      "execution_count": 3,
      "outputs": [
        {
          "output_type": "stream",
          "text": [
            "Number of Rows & Columns : (41188, 21) \n",
            "\n"
          ],
          "name": "stdout"
        },
        {
          "output_type": "execute_result",
          "data": {
            "text/html": [
              "<div>\n",
              "<style scoped>\n",
              "    .dataframe tbody tr th:only-of-type {\n",
              "        vertical-align: middle;\n",
              "    }\n",
              "\n",
              "    .dataframe tbody tr th {\n",
              "        vertical-align: top;\n",
              "    }\n",
              "\n",
              "    .dataframe thead th {\n",
              "        text-align: right;\n",
              "    }\n",
              "</style>\n",
              "<table border=\"1\" class=\"dataframe\">\n",
              "  <thead>\n",
              "    <tr style=\"text-align: right;\">\n",
              "      <th></th>\n",
              "      <th>age</th>\n",
              "      <th>job</th>\n",
              "      <th>marital</th>\n",
              "      <th>education</th>\n",
              "      <th>default</th>\n",
              "      <th>housing</th>\n",
              "      <th>loan</th>\n",
              "      <th>contact</th>\n",
              "      <th>month</th>\n",
              "      <th>day_of_week</th>\n",
              "      <th>duration</th>\n",
              "      <th>campaign</th>\n",
              "      <th>pdays</th>\n",
              "      <th>previous</th>\n",
              "      <th>poutcome</th>\n",
              "      <th>emp.var.rate</th>\n",
              "      <th>cons.price.idx</th>\n",
              "      <th>cons.conf.idx</th>\n",
              "      <th>euribor3m</th>\n",
              "      <th>nr.employed</th>\n",
              "      <th>y</th>\n",
              "    </tr>\n",
              "  </thead>\n",
              "  <tbody>\n",
              "    <tr>\n",
              "      <th>0</th>\n",
              "      <td>56</td>\n",
              "      <td>housemaid</td>\n",
              "      <td>married</td>\n",
              "      <td>basic.4y</td>\n",
              "      <td>no</td>\n",
              "      <td>no</td>\n",
              "      <td>no</td>\n",
              "      <td>telephone</td>\n",
              "      <td>may</td>\n",
              "      <td>mon</td>\n",
              "      <td>261</td>\n",
              "      <td>1</td>\n",
              "      <td>999</td>\n",
              "      <td>0</td>\n",
              "      <td>nonexistent</td>\n",
              "      <td>1.1</td>\n",
              "      <td>93.994</td>\n",
              "      <td>-36.4</td>\n",
              "      <td>4.857</td>\n",
              "      <td>5191.0</td>\n",
              "      <td>no</td>\n",
              "    </tr>\n",
              "    <tr>\n",
              "      <th>1</th>\n",
              "      <td>57</td>\n",
              "      <td>services</td>\n",
              "      <td>married</td>\n",
              "      <td>high.school</td>\n",
              "      <td>unknown</td>\n",
              "      <td>no</td>\n",
              "      <td>no</td>\n",
              "      <td>telephone</td>\n",
              "      <td>may</td>\n",
              "      <td>mon</td>\n",
              "      <td>149</td>\n",
              "      <td>1</td>\n",
              "      <td>999</td>\n",
              "      <td>0</td>\n",
              "      <td>nonexistent</td>\n",
              "      <td>1.1</td>\n",
              "      <td>93.994</td>\n",
              "      <td>-36.4</td>\n",
              "      <td>4.857</td>\n",
              "      <td>5191.0</td>\n",
              "      <td>no</td>\n",
              "    </tr>\n",
              "    <tr>\n",
              "      <th>2</th>\n",
              "      <td>37</td>\n",
              "      <td>services</td>\n",
              "      <td>married</td>\n",
              "      <td>high.school</td>\n",
              "      <td>no</td>\n",
              "      <td>yes</td>\n",
              "      <td>no</td>\n",
              "      <td>telephone</td>\n",
              "      <td>may</td>\n",
              "      <td>mon</td>\n",
              "      <td>226</td>\n",
              "      <td>1</td>\n",
              "      <td>999</td>\n",
              "      <td>0</td>\n",
              "      <td>nonexistent</td>\n",
              "      <td>1.1</td>\n",
              "      <td>93.994</td>\n",
              "      <td>-36.4</td>\n",
              "      <td>4.857</td>\n",
              "      <td>5191.0</td>\n",
              "      <td>no</td>\n",
              "    </tr>\n",
              "    <tr>\n",
              "      <th>3</th>\n",
              "      <td>40</td>\n",
              "      <td>admin.</td>\n",
              "      <td>married</td>\n",
              "      <td>basic.6y</td>\n",
              "      <td>no</td>\n",
              "      <td>no</td>\n",
              "      <td>no</td>\n",
              "      <td>telephone</td>\n",
              "      <td>may</td>\n",
              "      <td>mon</td>\n",
              "      <td>151</td>\n",
              "      <td>1</td>\n",
              "      <td>999</td>\n",
              "      <td>0</td>\n",
              "      <td>nonexistent</td>\n",
              "      <td>1.1</td>\n",
              "      <td>93.994</td>\n",
              "      <td>-36.4</td>\n",
              "      <td>4.857</td>\n",
              "      <td>5191.0</td>\n",
              "      <td>no</td>\n",
              "    </tr>\n",
              "    <tr>\n",
              "      <th>4</th>\n",
              "      <td>56</td>\n",
              "      <td>services</td>\n",
              "      <td>married</td>\n",
              "      <td>high.school</td>\n",
              "      <td>no</td>\n",
              "      <td>no</td>\n",
              "      <td>yes</td>\n",
              "      <td>telephone</td>\n",
              "      <td>may</td>\n",
              "      <td>mon</td>\n",
              "      <td>307</td>\n",
              "      <td>1</td>\n",
              "      <td>999</td>\n",
              "      <td>0</td>\n",
              "      <td>nonexistent</td>\n",
              "      <td>1.1</td>\n",
              "      <td>93.994</td>\n",
              "      <td>-36.4</td>\n",
              "      <td>4.857</td>\n",
              "      <td>5191.0</td>\n",
              "      <td>no</td>\n",
              "    </tr>\n",
              "  </tbody>\n",
              "</table>\n",
              "</div>"
            ],
            "text/plain": [
              "   age        job  marital  ... euribor3m nr.employed   y\n",
              "0   56  housemaid  married  ...     4.857      5191.0  no\n",
              "1   57   services  married  ...     4.857      5191.0  no\n",
              "2   37   services  married  ...     4.857      5191.0  no\n",
              "3   40     admin.  married  ...     4.857      5191.0  no\n",
              "4   56   services  married  ...     4.857      5191.0  no\n",
              "\n",
              "[5 rows x 21 columns]"
            ]
          },
          "metadata": {
            "tags": []
          },
          "execution_count": 3
        }
      ]
    },
    {
      "cell_type": "code",
      "metadata": {
        "colab": {
          "base_uri": "https://localhost:8080/"
        },
        "id": "cnlesj71GK4k",
        "outputId": "0365391b-b654-4342-e423-86ce1ccb3370"
      },
      "source": [
        "#listing name of all columns\n",
        "df.info()"
      ],
      "execution_count": 4,
      "outputs": [
        {
          "output_type": "stream",
          "text": [
            "<class 'pandas.core.frame.DataFrame'>\n",
            "RangeIndex: 41188 entries, 0 to 41187\n",
            "Data columns (total 21 columns):\n",
            " #   Column          Non-Null Count  Dtype  \n",
            "---  ------          --------------  -----  \n",
            " 0   age             41188 non-null  int64  \n",
            " 1   job             41188 non-null  object \n",
            " 2   marital         41188 non-null  object \n",
            " 3   education       41188 non-null  object \n",
            " 4   default         41188 non-null  object \n",
            " 5   housing         41188 non-null  object \n",
            " 6   loan            41188 non-null  object \n",
            " 7   contact         41188 non-null  object \n",
            " 8   month           41188 non-null  object \n",
            " 9   day_of_week     41188 non-null  object \n",
            " 10  duration        41188 non-null  int64  \n",
            " 11  campaign        41188 non-null  int64  \n",
            " 12  pdays           41188 non-null  int64  \n",
            " 13  previous        41188 non-null  int64  \n",
            " 14  poutcome        41188 non-null  object \n",
            " 15  emp.var.rate    41188 non-null  float64\n",
            " 16  cons.price.idx  41188 non-null  float64\n",
            " 17  cons.conf.idx   41188 non-null  float64\n",
            " 18  euribor3m       41188 non-null  float64\n",
            " 19  nr.employed     41188 non-null  float64\n",
            " 20  y               41188 non-null  object \n",
            "dtypes: float64(5), int64(5), object(11)\n",
            "memory usage: 6.6+ MB\n"
          ],
          "name": "stdout"
        }
      ]
    },
    {
      "cell_type": "code",
      "metadata": {
        "colab": {
          "base_uri": "https://localhost:8080/"
        },
        "id": "grBLuZ33JCVo",
        "outputId": "a11d5f8d-9945-46b9-852b-37739b9cdc82"
      },
      "source": [
        "#checking missing values in data\n",
        "df.isnull().sum()"
      ],
      "execution_count": 5,
      "outputs": [
        {
          "output_type": "execute_result",
          "data": {
            "text/plain": [
              "age               0\n",
              "job               0\n",
              "marital           0\n",
              "education         0\n",
              "default           0\n",
              "housing           0\n",
              "loan              0\n",
              "contact           0\n",
              "month             0\n",
              "day_of_week       0\n",
              "duration          0\n",
              "campaign          0\n",
              "pdays             0\n",
              "previous          0\n",
              "poutcome          0\n",
              "emp.var.rate      0\n",
              "cons.price.idx    0\n",
              "cons.conf.idx     0\n",
              "euribor3m         0\n",
              "nr.employed       0\n",
              "y                 0\n",
              "dtype: int64"
            ]
          },
          "metadata": {
            "tags": []
          },
          "execution_count": 5
        }
      ]
    },
    {
      "cell_type": "code",
      "metadata": {
        "id": "xUECArpKxVYz"
      },
      "source": [
        ""
      ],
      "execution_count": 5,
      "outputs": []
    },
    {
      "cell_type": "markdown",
      "metadata": {
        "id": "kF30DLD6xXId"
      },
      "source": [
        "Exploratory data analysis"
      ]
    },
    {
      "cell_type": "code",
      "metadata": {
        "colab": {
          "base_uri": "https://localhost:8080/"
        },
        "id": "FzgSw8saHvoF",
        "outputId": "455e504f-ed0c-42bc-f2a9-3ed3561b652e"
      },
      "source": [
        "#checking distribution of dependent variable\n",
        "df['y'].value_counts()"
      ],
      "execution_count": 6,
      "outputs": [
        {
          "output_type": "execute_result",
          "data": {
            "text/plain": [
              "no     36548\n",
              "yes     4640\n",
              "Name: y, dtype: int64"
            ]
          },
          "metadata": {
            "tags": []
          },
          "execution_count": 6
        }
      ]
    },
    {
      "cell_type": "code",
      "metadata": {
        "colab": {
          "base_uri": "https://localhost:8080/",
          "height": 284
        },
        "id": "tpZdMt7lHrp3",
        "outputId": "7ef190fb-05ee-4a60-ba9c-8c05c1ca7363"
      },
      "source": [
        "#summary statistics of numeric columns\n",
        "df.describe()"
      ],
      "execution_count": 7,
      "outputs": [
        {
          "output_type": "execute_result",
          "data": {
            "text/html": [
              "<div>\n",
              "<style scoped>\n",
              "    .dataframe tbody tr th:only-of-type {\n",
              "        vertical-align: middle;\n",
              "    }\n",
              "\n",
              "    .dataframe tbody tr th {\n",
              "        vertical-align: top;\n",
              "    }\n",
              "\n",
              "    .dataframe thead th {\n",
              "        text-align: right;\n",
              "    }\n",
              "</style>\n",
              "<table border=\"1\" class=\"dataframe\">\n",
              "  <thead>\n",
              "    <tr style=\"text-align: right;\">\n",
              "      <th></th>\n",
              "      <th>age</th>\n",
              "      <th>duration</th>\n",
              "      <th>campaign</th>\n",
              "      <th>pdays</th>\n",
              "      <th>previous</th>\n",
              "      <th>emp.var.rate</th>\n",
              "      <th>cons.price.idx</th>\n",
              "      <th>cons.conf.idx</th>\n",
              "      <th>euribor3m</th>\n",
              "      <th>nr.employed</th>\n",
              "    </tr>\n",
              "  </thead>\n",
              "  <tbody>\n",
              "    <tr>\n",
              "      <th>count</th>\n",
              "      <td>41188.00000</td>\n",
              "      <td>41188.000000</td>\n",
              "      <td>41188.000000</td>\n",
              "      <td>41188.000000</td>\n",
              "      <td>41188.000000</td>\n",
              "      <td>41188.000000</td>\n",
              "      <td>41188.000000</td>\n",
              "      <td>41188.000000</td>\n",
              "      <td>41188.000000</td>\n",
              "      <td>41188.000000</td>\n",
              "    </tr>\n",
              "    <tr>\n",
              "      <th>mean</th>\n",
              "      <td>40.02406</td>\n",
              "      <td>258.285010</td>\n",
              "      <td>2.567593</td>\n",
              "      <td>962.475454</td>\n",
              "      <td>0.172963</td>\n",
              "      <td>0.081886</td>\n",
              "      <td>93.575664</td>\n",
              "      <td>-40.502600</td>\n",
              "      <td>3.621291</td>\n",
              "      <td>5167.035911</td>\n",
              "    </tr>\n",
              "    <tr>\n",
              "      <th>std</th>\n",
              "      <td>10.42125</td>\n",
              "      <td>259.279249</td>\n",
              "      <td>2.770014</td>\n",
              "      <td>186.910907</td>\n",
              "      <td>0.494901</td>\n",
              "      <td>1.570960</td>\n",
              "      <td>0.578840</td>\n",
              "      <td>4.628198</td>\n",
              "      <td>1.734447</td>\n",
              "      <td>72.251528</td>\n",
              "    </tr>\n",
              "    <tr>\n",
              "      <th>min</th>\n",
              "      <td>17.00000</td>\n",
              "      <td>0.000000</td>\n",
              "      <td>1.000000</td>\n",
              "      <td>0.000000</td>\n",
              "      <td>0.000000</td>\n",
              "      <td>-3.400000</td>\n",
              "      <td>92.201000</td>\n",
              "      <td>-50.800000</td>\n",
              "      <td>0.634000</td>\n",
              "      <td>4963.600000</td>\n",
              "    </tr>\n",
              "    <tr>\n",
              "      <th>25%</th>\n",
              "      <td>32.00000</td>\n",
              "      <td>102.000000</td>\n",
              "      <td>1.000000</td>\n",
              "      <td>999.000000</td>\n",
              "      <td>0.000000</td>\n",
              "      <td>-1.800000</td>\n",
              "      <td>93.075000</td>\n",
              "      <td>-42.700000</td>\n",
              "      <td>1.344000</td>\n",
              "      <td>5099.100000</td>\n",
              "    </tr>\n",
              "    <tr>\n",
              "      <th>50%</th>\n",
              "      <td>38.00000</td>\n",
              "      <td>180.000000</td>\n",
              "      <td>2.000000</td>\n",
              "      <td>999.000000</td>\n",
              "      <td>0.000000</td>\n",
              "      <td>1.100000</td>\n",
              "      <td>93.749000</td>\n",
              "      <td>-41.800000</td>\n",
              "      <td>4.857000</td>\n",
              "      <td>5191.000000</td>\n",
              "    </tr>\n",
              "    <tr>\n",
              "      <th>75%</th>\n",
              "      <td>47.00000</td>\n",
              "      <td>319.000000</td>\n",
              "      <td>3.000000</td>\n",
              "      <td>999.000000</td>\n",
              "      <td>0.000000</td>\n",
              "      <td>1.400000</td>\n",
              "      <td>93.994000</td>\n",
              "      <td>-36.400000</td>\n",
              "      <td>4.961000</td>\n",
              "      <td>5228.100000</td>\n",
              "    </tr>\n",
              "    <tr>\n",
              "      <th>max</th>\n",
              "      <td>98.00000</td>\n",
              "      <td>4918.000000</td>\n",
              "      <td>56.000000</td>\n",
              "      <td>999.000000</td>\n",
              "      <td>7.000000</td>\n",
              "      <td>1.400000</td>\n",
              "      <td>94.767000</td>\n",
              "      <td>-26.900000</td>\n",
              "      <td>5.045000</td>\n",
              "      <td>5228.100000</td>\n",
              "    </tr>\n",
              "  </tbody>\n",
              "</table>\n",
              "</div>"
            ],
            "text/plain": [
              "               age      duration  ...     euribor3m   nr.employed\n",
              "count  41188.00000  41188.000000  ...  41188.000000  41188.000000\n",
              "mean      40.02406    258.285010  ...      3.621291   5167.035911\n",
              "std       10.42125    259.279249  ...      1.734447     72.251528\n",
              "min       17.00000      0.000000  ...      0.634000   4963.600000\n",
              "25%       32.00000    102.000000  ...      1.344000   5099.100000\n",
              "50%       38.00000    180.000000  ...      4.857000   5191.000000\n",
              "75%       47.00000    319.000000  ...      4.961000   5228.100000\n",
              "max       98.00000   4918.000000  ...      5.045000   5228.100000\n",
              "\n",
              "[8 rows x 10 columns]"
            ]
          },
          "metadata": {
            "tags": []
          },
          "execution_count": 7
        }
      ]
    },
    {
      "cell_type": "code",
      "metadata": {
        "colab": {
          "base_uri": "https://localhost:8080/",
          "height": 879
        },
        "id": "qwN-58MdJ43E",
        "outputId": "4fc538fd-3698-41b0-ceb6-81ee545a7c3d"
      },
      "source": [
        "#distribution of all numeric columns\n",
        "df.hist(figsize=(20, 15), bins = 100, xlabelsize = 10, ylabelsize = 10);"
      ],
      "execution_count": 8,
      "outputs": [
        {
          "output_type": "display_data",
          "data": {
            "image/png": "[encoded data removed]",
            "text/plain": [
              "<Figure size 1440x1080 with 12 Axes>"
            ]
          },
          "metadata": {
            "tags": [],
            "needs_background": "light"
          }
        }
      ]
    },
    {
      "cell_type": "markdown",
      "metadata": {
        "id": "i-_GTWSUM5JH"
      },
      "source": [
        "There is some slight skewness in age and duration variable which might indicate presence of some outliers in the data. Also looking at distribution, it appears that pdays and previous follow distribution of categorical nature, not continuous. So, we can create categorical features from them."
      ]
    },
    {
      "cell_type": "code",
      "metadata": {
        "id": "DWJ4KmKMLeBk",
        "colab": {
          "base_uri": "https://localhost:8080/",
          "height": 877
        },
        "outputId": "b593d730-fbe7-493e-94b8-f13230ad413a"
      },
      "source": [
        "#boxplot of numeric columns\n",
        "fig, ax =plt.subplots(4,3, figsize=(20,15))\n",
        "sns.boxplot(df['age'], ax=ax[0][0]);\n",
        "sns.boxplot(df['duration'], ax=ax[0][1]);\n",
        "sns.boxplot(df['campaign'], ax=ax[0][2]);\n",
        "sns.boxplot(df['pdays'], ax=ax[1][0]);\n",
        "sns.boxplot(df['previous'], ax=ax[1][1]);\n",
        "sns.boxplot(df['emp.var.rate'], ax=ax[1][2]);\n",
        "sns.boxplot(df['cons.price.idx'], ax=ax[2][0]);\n",
        "sns.boxplot(df['cons.conf.idx'], ax=ax[2][1]);\n",
        "sns.boxplot(df['euribor3m'], ax=ax[2][2]);\n",
        "sns.boxplot(df['nr.employed'], ax=ax[3][0]);\n",
        "fig.show()"
      ],
      "execution_count": 9,
      "outputs": [
        {
          "output_type": "display_data",
          "data": {
            "image/png": "[encoded data removed]",
            "text/plain": [
              "<Figure size 1440x1080 with 12 Axes>"
            ]
          },
          "metadata": {
            "tags": [],
            "needs_background": "light"
          }
        }
      ]
    },
    {
      "cell_type": "markdown",
      "metadata": {
        "id": "qIKkx10DMnyH"
      },
      "source": [
        "Age and duration column have some outliers, which can be capped at 95th percentile. \n",
        "\n",
        "We can create a indicator variable if customer was contacted in previous marketing campaigns or not. Other variables related to that can be dropped."
      ]
    },
    {
      "cell_type": "code",
      "metadata": {
        "id": "1wcP7JAVF2g6"
      },
      "source": [
        "#variable transformation\n",
        "df['previous'] = np.where(df['pdays'] == 999, \"not_contacted\", \"contacted\")  #creating a flag if customer was previously contacted or not\n",
        "df = df.drop(['pdays'], axis = 1)  #dropping pdays column"
      ],
      "execution_count": 10,
      "outputs": []
    },
    {
      "cell_type": "code",
      "metadata": {
        "id": "MHw3NGIIHeqH"
      },
      "source": [
        "#outlier treatment\n",
        "age_95 = df['age'].quantile(0.95)\n",
        "duration_95 = df['duration'].quantile(0.95)\n",
        "campaign_95 = df['campaign'].quantile(0.95)\n",
        "\n",
        "df['age'] = np.where(df['age'] > age_95, 1, df['age'])\n",
        "df['duration'] = np.where(df['age'] > duration_95, 1, df['duration'])\n",
        "df['campaign'] = np.where(df['age'] > campaign_95, 1, df['campaign'])"
      ],
      "execution_count": 11,
      "outputs": []
    },
    {
      "cell_type": "code",
      "metadata": {
        "colab": {
          "base_uri": "https://localhost:8080/",
          "height": 1000
        },
        "id": "S0pDdfAPwpZW",
        "outputId": "c8666b51-68c2-4b87-fe33-8ef399699dbe"
      },
      "source": [
        "#barplot for categorical features - checking distribution\n",
        "sns.catplot(x = \"job\", kind = \"count\", palette = \"ch:0.25\", data = df)\n",
        "sns.catplot(x = \"marital\", kind = \"count\", palette = \"ch:0.25\", data = df)\n",
        "sns.catplot(x = \"education\", kind = \"count\", palette = \"ch:0.25\", data = df)\n",
        "sns.catplot(x = \"default\", kind = \"count\", palette = \"ch:0.25\", data = df)\n",
        "sns.catplot(x = \"housing\", kind = \"count\", palette = \"ch:0.25\", data = df)\n",
        "sns.catplot(x = \"loan\", kind = \"count\", palette = \"ch:0.25\", data = df)\n",
        "sns.catplot(x = \"contact\", kind = \"count\", palette = \"ch:0.25\", data = df)\n",
        "sns.catplot(x = \"month\", kind = \"count\", palette = \"ch:0.25\", data = df)\n",
        "sns.catplot(x = \"day_of_week\", kind = \"count\", palette = \"ch:0.25\", data = df)\n",
        "sns.catplot(x = \"poutcome\", kind = \"count\", palette = \"ch:0.25\", data = df)"
      ],
      "execution_count": 12,
      "outputs": [
        {
          "output_type": "execute_result",
          "data": {
            "text/plain": [
              "<seaborn.axisgrid.FacetGrid at 0x7f20eeecad10>"
            ]
          },
          "metadata": {
            "tags": []
          },
          "execution_count": 12
        },
        {
          "output_type": "display_data",
          "data": {
            "image/png": "[encoded data removed]",
            "text/plain": [
              "<Figure size 360x360 with 1 Axes>"
            ]
          },
          "metadata": {
            "tags": [],
            "needs_background": "light"
          }
        },
        {
          "output_type": "display_data",
          "data": {
            "image/png": "[encoded data removed]",
            "text/plain": [
              "<Figure size 360x360 with 1 Axes>"
            ]
          },
          "metadata": {
            "tags": [],
            "needs_background": "light"
          }
        },
        {
          "output_type": "display_data",
          "data": {
            "image/png": "[encoded data removed]",
            "text/plain": [
              "<Figure size 360x360 with 1 Axes>"
            ]
          },
          "metadata": {
            "tags": [],
            "needs_background": "light"
          }
        },
        {
          "output_type": "display_data",
          "data": {
            "image/png": "[encoded data removed]",
            "text/plain": [
              "<Figure size 360x360 with 1 Axes>"
            ]
          },
          "metadata": {
            "tags": [],
            "needs_background": "light"
          }
        },
        {
          "output_type": "display_data",
          "data": {
            "image/png": "[encoded data removed]",
            "text/plain": [
              "<Figure size 360x360 with 1 Axes>"
            ]
          },
          "metadata": {
            "tags": [],
            "needs_background": "light"
          }
        },
        {
          "output_type": "display_data",
          "data": {
            "image/png": "[encoded data removed]",
            "text/plain": [
              "<Figure size 360x360 with 1 Axes>"
            ]
          },
          "metadata": {
            "tags": [],
            "needs_background": "light"
          }
        },
        {
          "output_type": "display_data",
          "data": {
            "image/png": "[encoded data removed]",
            "text/plain": [
              "<Figure size 360x360 with 1 Axes>"
            ]
          },
          "metadata": {
            "tags": [],
            "needs_background": "light"
          }
        },
        {
          "output_type": "display_data",
          "data": {
            "image/png": "[encoded data removed]",
            "text/plain": [
              "<Figure size 360x360 with 1 Axes>"
            ]
          },
          "metadata": {
            "tags": [],
            "needs_background": "light"
          }
        },
        {
          "output_type": "display_data",
          "data": {
            "image/png": "[encoded data removed]",
            "text/plain": [
              "<Figure size 360x360 with 1 Axes>"
            ]
          },
          "metadata": {
            "tags": [],
            "needs_background": "light"
          }
        },
        {
          "output_type": "display_data",
          "data": {
            "image/png": "[encoded data removed]",
            "text/plain": [
              "<Figure size 360x360 with 1 Axes>"
            ]
          },
          "metadata": {
            "tags": [],
            "needs_background": "light"
          }
        }
      ]
    },
    {
      "cell_type": "code",
      "metadata": {
        "id": "_WP0umSFJAWO"
      },
      "source": [
        ""
      ],
      "execution_count": 12,
      "outputs": []
    },
    {
      "cell_type": "markdown",
      "metadata": {
        "id": "cbsfo8Lvwert"
      },
      "source": [
        "Feature Selection"
      ]
    },
    {
      "cell_type": "code",
      "metadata": {
        "colab": {
          "base_uri": "https://localhost:8080/"
        },
        "id": "6o-TOrQ-vzVY",
        "outputId": "4d6b9407-3f68-4520-da2f-99f5f0266298"
      },
      "source": [
        "#checking variance of all numeric columns\n",
        "#drop variables with very less variance\n",
        "df.var()"
      ],
      "execution_count": 13,
      "outputs": [
        {
          "output_type": "execute_result",
          "data": {
            "text/plain": [
              "age                 134.011562\n",
              "duration          67225.728877\n",
              "campaign              0.266610\n",
              "emp.var.rate          2.467915\n",
              "cons.price.idx        0.335056\n",
              "cons.conf.idx        21.420215\n",
              "euribor3m             3.008308\n",
              "nr.employed        5220.283250\n",
              "dtype: float64"
            ]
          },
          "metadata": {
            "tags": []
          },
          "execution_count": 13
        }
      ]
    },
    {
      "cell_type": "code",
      "metadata": {
        "colab": {
          "base_uri": "https://localhost:8080/",
          "height": 284
        },
        "id": "LpS6FxVf3ISA",
        "outputId": "15b9da66-de22-48b7-e3e2-223698d0ab2c"
      },
      "source": [
        "#checking correlation among numeric columns\n",
        "corr_m = df.corr()\n",
        "corr_m"
      ],
      "execution_count": 14,
      "outputs": [
        {
          "output_type": "execute_result",
          "data": {
            "text/html": [
              "<div>\n",
              "<style scoped>\n",
              "    .dataframe tbody tr th:only-of-type {\n",
              "        vertical-align: middle;\n",
              "    }\n",
              "\n",
              "    .dataframe tbody tr th {\n",
              "        vertical-align: top;\n",
              "    }\n",
              "\n",
              "    .dataframe thead th {\n",
              "        text-align: right;\n",
              "    }\n",
              "</style>\n",
              "<table border=\"1\" class=\"dataframe\">\n",
              "  <thead>\n",
              "    <tr style=\"text-align: right;\">\n",
              "      <th></th>\n",
              "      <th>age</th>\n",
              "      <th>duration</th>\n",
              "      <th>campaign</th>\n",
              "      <th>emp.var.rate</th>\n",
              "      <th>cons.price.idx</th>\n",
              "      <th>cons.conf.idx</th>\n",
              "      <th>euribor3m</th>\n",
              "      <th>nr.employed</th>\n",
              "    </tr>\n",
              "  </thead>\n",
              "  <tbody>\n",
              "    <tr>\n",
              "      <th>age</th>\n",
              "      <td>1.000000</td>\n",
              "      <td>-0.014383</td>\n",
              "      <td>-0.317948</td>\n",
              "      <td>0.204902</td>\n",
              "      <td>0.104743</td>\n",
              "      <td>-0.017102</td>\n",
              "      <td>0.216412</td>\n",
              "      <td>0.237044</td>\n",
              "    </tr>\n",
              "    <tr>\n",
              "      <th>duration</th>\n",
              "      <td>-0.014383</td>\n",
              "      <td>1.000000</td>\n",
              "      <td>-0.001762</td>\n",
              "      <td>-0.027968</td>\n",
              "      <td>0.005312</td>\n",
              "      <td>-0.008173</td>\n",
              "      <td>-0.032897</td>\n",
              "      <td>-0.044703</td>\n",
              "    </tr>\n",
              "    <tr>\n",
              "      <th>campaign</th>\n",
              "      <td>-0.317948</td>\n",
              "      <td>-0.001762</td>\n",
              "      <td>1.000000</td>\n",
              "      <td>-0.037959</td>\n",
              "      <td>-0.009023</td>\n",
              "      <td>0.027469</td>\n",
              "      <td>-0.043752</td>\n",
              "      <td>-0.057049</td>\n",
              "    </tr>\n",
              "    <tr>\n",
              "      <th>emp.var.rate</th>\n",
              "      <td>0.204902</td>\n",
              "      <td>-0.027968</td>\n",
              "      <td>-0.037959</td>\n",
              "      <td>1.000000</td>\n",
              "      <td>0.775334</td>\n",
              "      <td>0.196041</td>\n",
              "      <td>0.972245</td>\n",
              "      <td>0.906970</td>\n",
              "    </tr>\n",
              "    <tr>\n",
              "      <th>cons.price.idx</th>\n",
              "      <td>0.104743</td>\n",
              "      <td>0.005312</td>\n",
              "      <td>-0.009023</td>\n",
              "      <td>0.775334</td>\n",
              "      <td>1.000000</td>\n",
              "      <td>0.058986</td>\n",
              "      <td>0.688230</td>\n",
              "      <td>0.522034</td>\n",
              "    </tr>\n",
              "    <tr>\n",
              "      <th>cons.conf.idx</th>\n",
              "      <td>-0.017102</td>\n",
              "      <td>-0.008173</td>\n",
              "      <td>0.027469</td>\n",
              "      <td>0.196041</td>\n",
              "      <td>0.058986</td>\n",
              "      <td>1.000000</td>\n",
              "      <td>0.277686</td>\n",
              "      <td>0.100513</td>\n",
              "    </tr>\n",
              "    <tr>\n",
              "      <th>euribor3m</th>\n",
              "      <td>0.216412</td>\n",
              "      <td>-0.032897</td>\n",
              "      <td>-0.043752</td>\n",
              "      <td>0.972245</td>\n",
              "      <td>0.688230</td>\n",
              "      <td>0.277686</td>\n",
              "      <td>1.000000</td>\n",
              "      <td>0.945154</td>\n",
              "    </tr>\n",
              "    <tr>\n",
              "      <th>nr.employed</th>\n",
              "      <td>0.237044</td>\n",
              "      <td>-0.044703</td>\n",
              "      <td>-0.057049</td>\n",
              "      <td>0.906970</td>\n",
              "      <td>0.522034</td>\n",
              "      <td>0.100513</td>\n",
              "      <td>0.945154</td>\n",
              "      <td>1.000000</td>\n",
              "    </tr>\n",
              "  </tbody>\n",
              "</table>\n",
              "</div>"
            ],
            "text/plain": [
              "                     age  duration  ...  euribor3m  nr.employed\n",
              "age             1.000000 -0.014383  ...   0.216412     0.237044\n",
              "duration       -0.014383  1.000000  ...  -0.032897    -0.044703\n",
              "campaign       -0.317948 -0.001762  ...  -0.043752    -0.057049\n",
              "emp.var.rate    0.204902 -0.027968  ...   0.972245     0.906970\n",
              "cons.price.idx  0.104743  0.005312  ...   0.688230     0.522034\n",
              "cons.conf.idx  -0.017102 -0.008173  ...   0.277686     0.100513\n",
              "euribor3m       0.216412 -0.032897  ...   1.000000     0.945154\n",
              "nr.employed     0.237044 -0.044703  ...   0.945154     1.000000\n",
              "\n",
              "[8 rows x 8 columns]"
            ]
          },
          "metadata": {
            "tags": []
          },
          "execution_count": 14
        }
      ]
    },
    {
      "cell_type": "code",
      "metadata": {
        "id": "psYyDuNQxsT9"
      },
      "source": [
        "#dropping highly correlated variables\n",
        "corr_m =  corr_m.abs()    #absolute correlation matrix\n",
        "upper = corr_m.where(np.triu(np.ones(corr_m.shape), k = 1).astype(np.bool))   #upper triangle of correlation matrix\n",
        "corr_drop = [column for column in upper.columns if any(upper[column] >= 0.75)]    #column index with correlation magnitude >= 0.75\n",
        "df = df.drop(df[corr_drop], axis = 1)"
      ],
      "execution_count": 15,
      "outputs": []
    },
    {
      "cell_type": "code",
      "metadata": {
        "id": "nrTamPyXMPEo",
        "colab": {
          "base_uri": "https://localhost:8080/"
        },
        "outputId": "ec3b74c9-6397-4731-bb6b-892c2f12862c"
      },
      "source": [
        "#creating list of numeric and categorical columns\n",
        "numeric = []\n",
        "non_numeric = []\n",
        "for col in df:\n",
        "    if df[col].dtypes not in  (\"float64\", \"int64\"):\n",
        "        non_numeric.append(col)\n",
        "    else:\n",
        "        numeric.append(col)\n",
        "\n",
        "non_numeric = non_numeric[:-1]\n",
        "\n",
        "print(\"Numeric Columns: \", numeric)\n",
        "print(\"Categorical Columns: \", non_numeric)"
      ],
      "execution_count": 16,
      "outputs": [
        {
          "output_type": "stream",
          "text": [
            "Numeric Columns:  ['age', 'duration', 'campaign', 'emp.var.rate', 'cons.conf.idx']\n",
            "Categorical Columns:  ['job', 'marital', 'education', 'default', 'housing', 'loan', 'contact', 'month', 'day_of_week', 'previous', 'poutcome']\n"
          ],
          "name": "stdout"
        }
      ]
    },
    {
      "cell_type": "code",
      "metadata": {
        "id": "7iVUMgeuMPHY",
        "colab": {
          "base_uri": "https://localhost:8080/"
        },
        "outputId": "81975275-cef1-4838-b891-1dd4c2d77d6f"
      },
      "source": [
        "#numeric variable selection using t-test\n",
        "numeric_sig = []\n",
        "\n",
        "for col in numeric:\n",
        "  y_0 = df.loc[df['y'] == 'no', col]\n",
        "  y_1 = df.loc[df['y'] == 'yes', col]\n",
        "\n",
        "  p_value = stats.ttest_ind(y_0, y_1, equal_var = False)[1]\n",
        "\n",
        "  if p_value < 0.05:\n",
        "    numeric_sig.append(col)\n",
        "\n",
        "print(\"Significant numeric variables: \", numeric_sig)"
      ],
      "execution_count": 17,
      "outputs": [
        {
          "output_type": "stream",
          "text": [
            "Significant numeric variables:  ['age', 'duration', 'campaign', 'emp.var.rate', 'cons.conf.idx']\n"
          ],
          "name": "stdout"
        }
      ]
    },
    {
      "cell_type": "code",
      "metadata": {
        "colab": {
          "base_uri": "https://localhost:8080/"
        },
        "id": "N4MYAjoaiP61",
        "outputId": "1f6ae5be-f4db-4da8-9d6d-ffed66323b07"
      },
      "source": [
        "#categorical variable selection using chi square test\n",
        "non_numeric_sig = []\n",
        "\n",
        "for col in non_numeric:\n",
        "    ct = pd.crosstab(df['y'], df[col], margins=True)\n",
        "    obs = np.array([ct.iloc[0].values, ct.iloc[1].values])\n",
        "    p_value = stats.chi2_contingency(obs)[1]\n",
        "  \n",
        "    if p_value < 0.05:\n",
        "        non_numeric_sig.append(col)\n",
        "\n",
        "print(\"Significant categorical variables: \", non_numeric_sig)"
      ],
      "execution_count": 18,
      "outputs": [
        {
          "output_type": "stream",
          "text": [
            "Significant categorical variables:  ['job', 'marital', 'education', 'default', 'contact', 'month', 'day_of_week', 'previous', 'poutcome']\n"
          ],
          "name": "stdout"
        }
      ]
    },
    {
      "cell_type": "code",
      "metadata": {
        "id": "GdJPP2eUm-rj"
      },
      "source": [
        "#variables to select\n",
        "select = numeric_sig + non_numeric_sig + ['y']\n",
        "df = df[select]"
      ],
      "execution_count": 19,
      "outputs": []
    },
    {
      "cell_type": "code",
      "metadata": {
        "id": "Em9xx6e75Mne"
      },
      "source": [
        ""
      ],
      "execution_count": 19,
      "outputs": []
    },
    {
      "cell_type": "markdown",
      "metadata": {
        "id": "sRjTRAfzw4fx"
      },
      "source": [
        "Preparing final data set"
      ]
    },
    {
      "cell_type": "code",
      "metadata": {
        "id": "oMV1bdeXsA7R"
      },
      "source": [
        "#scaling numeric columns\n",
        "scaler = StandardScaler()\n",
        "df.loc[:,numeric_sig] = scaler.fit_transform(df.loc[:,numeric_sig])"
      ],
      "execution_count": 20,
      "outputs": []
    },
    {
      "cell_type": "code",
      "metadata": {
        "id": "e6SBZqRvMPJ6"
      },
      "source": [
        "#creating data set\n",
        "X =  df.loc[:, ~df.columns.isin(['y'])]\n",
        "y = np.where(df['y'] == 'yes', 1, 0)"
      ],
      "execution_count": 21,
      "outputs": []
    },
    {
      "cell_type": "code",
      "metadata": {
        "colab": {
          "base_uri": "https://localhost:8080/",
          "height": 232
        },
        "id": "BkW7pszUMPMZ",
        "outputId": "71564ffe-0b04-4bdc-ab46-0d460f0f1123"
      },
      "source": [
        "#one hot encoding of predictor variables\n",
        "X = pd.get_dummies(X, drop_first = True)\n",
        "X.head()"
      ],
      "execution_count": 22,
      "outputs": [
        {
          "output_type": "execute_result",
          "data": {
            "text/html": [
              "<div>\n",
              "<style scoped>\n",
              "    .dataframe tbody tr th:only-of-type {\n",
              "        vertical-align: middle;\n",
              "    }\n",
              "\n",
              "    .dataframe tbody tr th {\n",
              "        vertical-align: top;\n",
              "    }\n",
              "\n",
              "    .dataframe thead th {\n",
              "        text-align: right;\n",
              "    }\n",
              "</style>\n",
              "<table border=\"1\" class=\"dataframe\">\n",
              "  <thead>\n",
              "    <tr style=\"text-align: right;\">\n",
              "      <th></th>\n",
              "      <th>age</th>\n",
              "      <th>duration</th>\n",
              "      <th>campaign</th>\n",
              "      <th>emp.var.rate</th>\n",
              "      <th>cons.conf.idx</th>\n",
              "      <th>job_blue-collar</th>\n",
              "      <th>job_entrepreneur</th>\n",
              "      <th>job_housemaid</th>\n",
              "      <th>job_management</th>\n",
              "      <th>job_retired</th>\n",
              "      <th>job_self-employed</th>\n",
              "      <th>job_services</th>\n",
              "      <th>job_student</th>\n",
              "      <th>job_technician</th>\n",
              "      <th>job_unemployed</th>\n",
              "      <th>job_unknown</th>\n",
              "      <th>marital_married</th>\n",
              "      <th>marital_single</th>\n",
              "      <th>marital_unknown</th>\n",
              "      <th>education_basic.6y</th>\n",
              "      <th>education_basic.9y</th>\n",
              "      <th>education_high.school</th>\n",
              "      <th>education_illiterate</th>\n",
              "      <th>education_professional.course</th>\n",
              "      <th>education_university.degree</th>\n",
              "      <th>education_unknown</th>\n",
              "      <th>default_unknown</th>\n",
              "      <th>default_yes</th>\n",
              "      <th>contact_telephone</th>\n",
              "      <th>month_aug</th>\n",
              "      <th>month_dec</th>\n",
              "      <th>month_jul</th>\n",
              "      <th>month_jun</th>\n",
              "      <th>month_mar</th>\n",
              "      <th>month_may</th>\n",
              "      <th>month_nov</th>\n",
              "      <th>month_oct</th>\n",
              "      <th>month_sep</th>\n",
              "      <th>day_of_week_mon</th>\n",
              "      <th>day_of_week_thu</th>\n",
              "      <th>day_of_week_tue</th>\n",
              "      <th>day_of_week_wed</th>\n",
              "      <th>previous_not_contacted</th>\n",
              "      <th>poutcome_nonexistent</th>\n",
              "      <th>poutcome_success</th>\n",
              "    </tr>\n",
              "  </thead>\n",
              "  <tbody>\n",
              "    <tr>\n",
              "      <th>0</th>\n",
              "      <td>1.604657</td>\n",
              "      <td>0.010471</td>\n",
              "      <td>-0.101049</td>\n",
              "      <td>0.648092</td>\n",
              "      <td>0.886447</td>\n",
              "      <td>0</td>\n",
              "      <td>0</td>\n",
              "      <td>1</td>\n",
              "      <td>0</td>\n",
              "      <td>0</td>\n",
              "      <td>0</td>\n",
              "      <td>0</td>\n",
              "      <td>0</td>\n",
              "      <td>0</td>\n",
              "      <td>0</td>\n",
              "      <td>0</td>\n",
              "      <td>1</td>\n",
              "      <td>0</td>\n",
              "      <td>0</td>\n",
              "      <td>0</td>\n",
              "      <td>0</td>\n",
              "      <td>0</td>\n",
              "      <td>0</td>\n",
              "      <td>0</td>\n",
              "      <td>0</td>\n",
              "      <td>0</td>\n",
              "      <td>0</td>\n",
              "      <td>0</td>\n",
              "      <td>1</td>\n",
              "      <td>0</td>\n",
              "      <td>0</td>\n",
              "      <td>0</td>\n",
              "      <td>0</td>\n",
              "      <td>0</td>\n",
              "      <td>1</td>\n",
              "      <td>0</td>\n",
              "      <td>0</td>\n",
              "      <td>0</td>\n",
              "      <td>1</td>\n",
              "      <td>0</td>\n",
              "      <td>0</td>\n",
              "      <td>0</td>\n",
              "      <td>1</td>\n",
              "      <td>1</td>\n",
              "      <td>0</td>\n",
              "    </tr>\n",
              "    <tr>\n",
              "      <th>1</th>\n",
              "      <td>1.691041</td>\n",
              "      <td>-0.421501</td>\n",
              "      <td>-0.101049</td>\n",
              "      <td>0.648092</td>\n",
              "      <td>0.886447</td>\n",
              "      <td>0</td>\n",
              "      <td>0</td>\n",
              "      <td>0</td>\n",
              "      <td>0</td>\n",
              "      <td>0</td>\n",
              "      <td>0</td>\n",
              "      <td>1</td>\n",
              "      <td>0</td>\n",
              "      <td>0</td>\n",
              "      <td>0</td>\n",
              "      <td>0</td>\n",
              "      <td>1</td>\n",
              "      <td>0</td>\n",
              "      <td>0</td>\n",
              "      <td>0</td>\n",
              "      <td>0</td>\n",
              "      <td>1</td>\n",
              "      <td>0</td>\n",
              "      <td>0</td>\n",
              "      <td>0</td>\n",
              "      <td>0</td>\n",
              "      <td>1</td>\n",
              "      <td>0</td>\n",
              "      <td>1</td>\n",
              "      <td>0</td>\n",
              "      <td>0</td>\n",
              "      <td>0</td>\n",
              "      <td>0</td>\n",
              "      <td>0</td>\n",
              "      <td>1</td>\n",
              "      <td>0</td>\n",
              "      <td>0</td>\n",
              "      <td>0</td>\n",
              "      <td>1</td>\n",
              "      <td>0</td>\n",
              "      <td>0</td>\n",
              "      <td>0</td>\n",
              "      <td>1</td>\n",
              "      <td>1</td>\n",
              "      <td>0</td>\n",
              "    </tr>\n",
              "    <tr>\n",
              "      <th>2</th>\n",
              "      <td>-0.036642</td>\n",
              "      <td>-0.124520</td>\n",
              "      <td>-0.101049</td>\n",
              "      <td>0.648092</td>\n",
              "      <td>0.886447</td>\n",
              "      <td>0</td>\n",
              "      <td>0</td>\n",
              "      <td>0</td>\n",
              "      <td>0</td>\n",
              "      <td>0</td>\n",
              "      <td>0</td>\n",
              "      <td>1</td>\n",
              "      <td>0</td>\n",
              "      <td>0</td>\n",
              "      <td>0</td>\n",
              "      <td>0</td>\n",
              "      <td>1</td>\n",
              "      <td>0</td>\n",
              "      <td>0</td>\n",
              "      <td>0</td>\n",
              "      <td>0</td>\n",
              "      <td>1</td>\n",
              "      <td>0</td>\n",
              "      <td>0</td>\n",
              "      <td>0</td>\n",
              "      <td>0</td>\n",
              "      <td>0</td>\n",
              "      <td>0</td>\n",
              "      <td>1</td>\n",
              "      <td>0</td>\n",
              "      <td>0</td>\n",
              "      <td>0</td>\n",
              "      <td>0</td>\n",
              "      <td>0</td>\n",
              "      <td>1</td>\n",
              "      <td>0</td>\n",
              "      <td>0</td>\n",
              "      <td>0</td>\n",
              "      <td>1</td>\n",
              "      <td>0</td>\n",
              "      <td>0</td>\n",
              "      <td>0</td>\n",
              "      <td>1</td>\n",
              "      <td>1</td>\n",
              "      <td>0</td>\n",
              "    </tr>\n",
              "    <tr>\n",
              "      <th>3</th>\n",
              "      <td>0.222510</td>\n",
              "      <td>-0.413787</td>\n",
              "      <td>-0.101049</td>\n",
              "      <td>0.648092</td>\n",
              "      <td>0.886447</td>\n",
              "      <td>0</td>\n",
              "      <td>0</td>\n",
              "      <td>0</td>\n",
              "      <td>0</td>\n",
              "      <td>0</td>\n",
              "      <td>0</td>\n",
              "      <td>0</td>\n",
              "      <td>0</td>\n",
              "      <td>0</td>\n",
              "      <td>0</td>\n",
              "      <td>0</td>\n",
              "      <td>1</td>\n",
              "      <td>0</td>\n",
              "      <td>0</td>\n",
              "      <td>1</td>\n",
              "      <td>0</td>\n",
              "      <td>0</td>\n",
              "      <td>0</td>\n",
              "      <td>0</td>\n",
              "      <td>0</td>\n",
              "      <td>0</td>\n",
              "      <td>0</td>\n",
              "      <td>0</td>\n",
              "      <td>1</td>\n",
              "      <td>0</td>\n",
              "      <td>0</td>\n",
              "      <td>0</td>\n",
              "      <td>0</td>\n",
              "      <td>0</td>\n",
              "      <td>1</td>\n",
              "      <td>0</td>\n",
              "      <td>0</td>\n",
              "      <td>0</td>\n",
              "      <td>1</td>\n",
              "      <td>0</td>\n",
              "      <td>0</td>\n",
              "      <td>0</td>\n",
              "      <td>1</td>\n",
              "      <td>1</td>\n",
              "      <td>0</td>\n",
              "    </tr>\n",
              "    <tr>\n",
              "      <th>4</th>\n",
              "      <td>1.604657</td>\n",
              "      <td>0.187888</td>\n",
              "      <td>-0.101049</td>\n",
              "      <td>0.648092</td>\n",
              "      <td>0.886447</td>\n",
              "      <td>0</td>\n",
              "      <td>0</td>\n",
              "      <td>0</td>\n",
              "      <td>0</td>\n",
              "      <td>0</td>\n",
              "      <td>0</td>\n",
              "      <td>1</td>\n",
              "      <td>0</td>\n",
              "      <td>0</td>\n",
              "      <td>0</td>\n",
              "      <td>0</td>\n",
              "      <td>1</td>\n",
              "      <td>0</td>\n",
              "      <td>0</td>\n",
              "      <td>0</td>\n",
              "      <td>0</td>\n",
              "      <td>1</td>\n",
              "      <td>0</td>\n",
              "      <td>0</td>\n",
              "      <td>0</td>\n",
              "      <td>0</td>\n",
              "      <td>0</td>\n",
              "      <td>0</td>\n",
              "      <td>1</td>\n",
              "      <td>0</td>\n",
              "      <td>0</td>\n",
              "      <td>0</td>\n",
              "      <td>0</td>\n",
              "      <td>0</td>\n",
              "      <td>1</td>\n",
              "      <td>0</td>\n",
              "      <td>0</td>\n",
              "      <td>0</td>\n",
              "      <td>1</td>\n",
              "      <td>0</td>\n",
              "      <td>0</td>\n",
              "      <td>0</td>\n",
              "      <td>1</td>\n",
              "      <td>1</td>\n",
              "      <td>0</td>\n",
              "    </tr>\n",
              "  </tbody>\n",
              "</table>\n",
              "</div>"
            ],
            "text/plain": [
              "        age  duration  ...  poutcome_nonexistent  poutcome_success\n",
              "0  1.604657  0.010471  ...                     1                 0\n",
              "1  1.691041 -0.421501  ...                     1                 0\n",
              "2 -0.036642 -0.124520  ...                     1                 0\n",
              "3  0.222510 -0.413787  ...                     1                 0\n",
              "4  1.604657  0.187888  ...                     1                 0\n",
              "\n",
              "[5 rows x 45 columns]"
            ]
          },
          "metadata": {
            "tags": []
          },
          "execution_count": 22
        }
      ]
    },
    {
      "cell_type": "code",
      "metadata": {
        "id": "BcExOMDtMiE0"
      },
      "source": [
        "#splitting data into train and test\n",
        "X_train, X_test, y_train, y_test = train_test_split(X, y, test_size = 0.25, stratify = y, random_state = 42)"
      ],
      "execution_count": 23,
      "outputs": []
    },
    {
      "cell_type": "code",
      "metadata": {
        "id": "Y0KQUVLhADNr"
      },
      "source": [
        ""
      ],
      "execution_count": 23,
      "outputs": []
    },
    {
      "cell_type": "markdown",
      "metadata": {
        "id": "bPjaxvc_xDlD"
      },
      "source": [
        "Function to check model performance"
      ]
    },
    {
      "cell_type": "code",
      "metadata": {
        "id": "IuJjfSluMPPf"
      },
      "source": [
        "#accuracy metrics\n",
        "def accuracy_metrics(y, y_pred, y_prob):\n",
        "    results = confusion_matrix(y, y_pred) \n",
        "    print('Confusion Matrix :')\n",
        "    print(results) \n",
        "    print('Accuracy Score :',accuracy_score(y, y_pred))\n",
        "    print('Precision : ', precision_score(y, y_pred))\n",
        "    print('Recall : ', recall_score(y, y_pred))\n",
        "    print('FI Score : ', f1_score(y, y_pred, average = 'macro'))\n",
        "    print('Area under the Curve : ', roc_auc_score(y, y_prob))"
      ],
      "execution_count": 24,
      "outputs": []
    },
    {
      "cell_type": "code",
      "metadata": {
        "id": "0xfqy5VSOktN"
      },
      "source": [
        ""
      ],
      "execution_count": 24,
      "outputs": []
    },
    {
      "cell_type": "markdown",
      "metadata": {
        "id": "2gDI8DB8xLiX"
      },
      "source": [
        "Model Training"
      ]
    },
    {
      "cell_type": "code",
      "metadata": {
        "id": "FlKnnpJTOmzA"
      },
      "source": [
        "#building logistic regression model\n",
        "lr = LogisticRegression(max_iter = 500, random_state = 1)\n",
        "lr = lr.fit(X_train, y_train)"
      ],
      "execution_count": 25,
      "outputs": []
    },
    {
      "cell_type": "code",
      "metadata": {
        "colab": {
          "base_uri": "https://localhost:8080/"
        },
        "id": "RfKkPrtMOk0d",
        "outputId": "8fd560c5-d571-4583-db46-bddd27a6f2b8"
      },
      "source": [
        "#training performance\n",
        "y_prob = lr.predict_proba(X_train)[:,1]\n",
        "y_pred = lr.predict(X_train)\n",
        "accuracy_metrics(y_train, y_pred, y_prob)"
      ],
      "execution_count": 26,
      "outputs": [
        {
          "output_type": "stream",
          "text": [
            "Confusion Matrix :\n",
            "[[26683   728]\n",
            " [ 2106  1374]]\n",
            "Accuracy Score : 0.9082580686931468\n",
            "Precision :  0.653663177925785\n",
            "Recall :  0.39482758620689656\n",
            "FI Score :  0.7209348107988183\n",
            "Area under the Curve :  0.9317591477873846\n"
          ],
          "name": "stdout"
        }
      ]
    },
    {
      "cell_type": "code",
      "metadata": {
        "colab": {
          "base_uri": "https://localhost:8080/"
        },
        "id": "UlVWGgsZOlam",
        "outputId": "201907ad-ab21-4e95-a585-3bb5f21dba4c"
      },
      "source": [
        "#test performance\n",
        "y_prob = lr.predict_proba(X_test)[:,1]\n",
        "y_pred = lr.predict(X_test)\n",
        "accuracy_metrics(y_test, y_pred, y_prob)"
      ],
      "execution_count": 27,
      "outputs": [
        {
          "output_type": "stream",
          "text": [
            "Confusion Matrix :\n",
            "[[8911  226]\n",
            " [ 690  470]]\n",
            "Accuracy Score : 0.9110420510828396\n",
            "Precision :  0.6752873563218391\n",
            "Recall :  0.4051724137931034\n",
            "FI Score :  0.7287904488757861\n",
            "Area under the Curve :  0.9392989097002338\n"
          ],
          "name": "stdout"
        }
      ]
    },
    {
      "cell_type": "markdown",
      "metadata": {
        "id": "iMKMzzwXKo00"
      },
      "source": [
        "Accuracy score is greater than 90% but precision and recall is low. We need to handle the data imbalance."
      ]
    },
    {
      "cell_type": "code",
      "metadata": {
        "id": "2XUameGvPRBZ"
      },
      "source": [
        ""
      ],
      "execution_count": 27,
      "outputs": []
    },
    {
      "cell_type": "code",
      "metadata": {
        "colab": {
          "base_uri": "https://localhost:8080/"
        },
        "id": "_GpZZJr_59BQ",
        "outputId": "87cfae85-f57f-4380-bc62-8f8437e164a0"
      },
      "source": [
        "#smoteenn algorithm for handling data imbalance\n",
        "print(\"Before OverSampling, counts of label '1': {}\".format(sum(y_train == 1)))\n",
        "print(\"Before OverSampling, counts of label '0': {} \\n\".format(sum(y_train == 0)))\n",
        "\n",
        "sm = SMOTEENN(random_state = 41)\n",
        "X_train_smote, y_train_smote = sm.fit_sample(X_train, y_train)\n",
        "\n",
        "print(\"After OverSampling, counts of label '1': {}\".format(sum(y_train_smote == 1)))\n",
        "print(\"After OverSampling, counts of label '0': {}\".format(sum(y_train_smote == 0)))"
      ],
      "execution_count": 28,
      "outputs": [
        {
          "output_type": "stream",
          "text": [
            "Before OverSampling, counts of label '1': 3480\n",
            "Before OverSampling, counts of label '0': 27411 \n",
            "\n",
            "After OverSampling, counts of label '1': 26333\n",
            "After OverSampling, counts of label '0': 22995\n"
          ],
          "name": "stdout"
        }
      ]
    },
    {
      "cell_type": "code",
      "metadata": {
        "id": "fhk1lEY76CDI"
      },
      "source": [
        ""
      ],
      "execution_count": 28,
      "outputs": []
    },
    {
      "cell_type": "code",
      "metadata": {
        "id": "DzARy-YM7p4w"
      },
      "source": [
        "#building logistic regression model\n",
        "lr = LogisticRegression(max_iter = 500, random_state = 1)\n",
        "lr = lr.fit(X_train_smote, y_train_smote)"
      ],
      "execution_count": 29,
      "outputs": []
    },
    {
      "cell_type": "code",
      "metadata": {
        "colab": {
          "base_uri": "https://localhost:8080/"
        },
        "id": "EcaXLIeW7qaE",
        "outputId": "570227e4-8bc3-449a-ed56-4dfe03a77337"
      },
      "source": [
        "#training performance\n",
        "y_prob = lr.predict_proba(X_train)[:,1]\n",
        "y_pred = lr.predict(X_train)\n",
        "accuracy_metrics(y_train, y_pred, y_prob)"
      ],
      "execution_count": 30,
      "outputs": [
        {
          "output_type": "stream",
          "text": [
            "Confusion Matrix :\n",
            "[[22590  4821]\n",
            " [  241  3239]]\n",
            "Accuracy Score : 0.8361335016671523\n",
            "Precision :  0.40186104218362284\n",
            "Recall :  0.9307471264367816\n",
            "FI Score :  0.7302997305864574\n",
            "Area under the Curve :  0.9338461738449664\n"
          ],
          "name": "stdout"
        }
      ]
    },
    {
      "cell_type": "code",
      "metadata": {
        "colab": {
          "base_uri": "https://localhost:8080/"
        },
        "id": "F1EyHWGs7waT",
        "outputId": "5e760d67-95a0-4fc9-ab89-8bb93b4aad6c"
      },
      "source": [
        "#test performance\n",
        "y_prob = lr.predict_proba(X_test)[:,1]\n",
        "y_pred = lr.predict(X_test)\n",
        "accuracy_metrics(y_test, y_pred, y_prob)"
      ],
      "execution_count": 31,
      "outputs": [
        {
          "output_type": "stream",
          "text": [
            "Confusion Matrix :\n",
            "[[7512 1625]\n",
            " [  64 1096]]\n",
            "Accuracy Score : 0.835971642225891\n",
            "Precision :  0.4027930907754502\n",
            "Recall :  0.9448275862068966\n",
            "FI Score :  0.7318719150146771\n",
            "Area under the Curve :  0.9394576051144834\n"
          ],
          "name": "stdout"
        }
      ]
    },
    {
      "cell_type": "code",
      "metadata": {
        "id": "A3dqPNNv7xpZ"
      },
      "source": [
        ""
      ],
      "execution_count": 31,
      "outputs": []
    },
    {
      "cell_type": "code",
      "metadata": {
        "id": "bnomqOfKMP6y"
      },
      "source": [
        "#building decision tree model\n",
        "dt = DecisionTreeClassifier(max_depth = 10, random_state = 1)\n",
        "dt = dt.fit(X_train_smote, y_train_smote)"
      ],
      "execution_count": 32,
      "outputs": []
    },
    {
      "cell_type": "code",
      "metadata": {
        "colab": {
          "base_uri": "https://localhost:8080/"
        },
        "id": "fPPN4JfRMpxD",
        "outputId": "ea598697-ab6f-415c-9976-cb319bc79e73"
      },
      "source": [
        "#training performance\n",
        "y_prob = dt.predict_proba(X_train)[:,1]\n",
        "y_pred = dt.predict(X_train)\n",
        "accuracy_metrics(y_train, y_pred, y_prob)"
      ],
      "execution_count": 33,
      "outputs": [
        {
          "output_type": "stream",
          "text": [
            "Confusion Matrix :\n",
            "[[23433  3978]\n",
            " [  202  3278]]\n",
            "Accuracy Score : 0.8646855071056295\n",
            "Precision :  0.4517640573318633\n",
            "Recall :  0.9419540229885057\n",
            "FI Score :  0.764384406093379\n",
            "Area under the Curve :  0.938250369953836\n"
          ],
          "name": "stdout"
        }
      ]
    },
    {
      "cell_type": "code",
      "metadata": {
        "colab": {
          "base_uri": "https://localhost:8080/"
        },
        "id": "u1i5PycCMsdT",
        "outputId": "bf3f080c-aa96-4cf9-cadc-f4349929bf18"
      },
      "source": [
        "#test performance\n",
        "y_prob = dt.predict_proba(X_test)[:,1]\n",
        "y_pred = dt.predict(X_test)\n",
        "accuracy_metrics(y_test, y_pred, y_prob)"
      ],
      "execution_count": 34,
      "outputs": [
        {
          "output_type": "stream",
          "text": [
            "Confusion Matrix :\n",
            "[[7752 1385]\n",
            " [ 105 1055]]\n",
            "Accuracy Score : 0.8552976595124794\n",
            "Precision :  0.4323770491803279\n",
            "Recall :  0.9094827586206896\n",
            "FI Score :  0.7492165535548494\n",
            "Area under the Curve :  0.90031460752605\n"
          ],
          "name": "stdout"
        }
      ]
    },
    {
      "cell_type": "code",
      "metadata": {
        "colab": {
          "base_uri": "https://localhost:8080/",
          "height": 639
        },
        "id": "6HpDYx8MNCus",
        "outputId": "d2252d48-51eb-4605-80b3-3be410302523"
      },
      "source": [
        "#variable importance\n",
        "columns = ['Variable', 'Importance']\n",
        "lst = []\n",
        "for i,v in enumerate(dt.feature_importances_):\n",
        "    lst.append([X.columns[i], v])\n",
        "    \n",
        "var_imp = pd.DataFrame(lst, columns = columns)\n",
        "var_imp = var_imp.sort_values(by = ['Importance'], ascending = False)\n",
        "var_imp.head(20)"
      ],
      "execution_count": 35,
      "outputs": [
        {
          "output_type": "execute_result",
          "data": {
            "text/html": [
              "<div>\n",
              "<style scoped>\n",
              "    .dataframe tbody tr th:only-of-type {\n",
              "        vertical-align: middle;\n",
              "    }\n",
              "\n",
              "    .dataframe tbody tr th {\n",
              "        vertical-align: top;\n",
              "    }\n",
              "\n",
              "    .dataframe thead th {\n",
              "        text-align: right;\n",
              "    }\n",
              "</style>\n",
              "<table border=\"1\" class=\"dataframe\">\n",
              "  <thead>\n",
              "    <tr style=\"text-align: right;\">\n",
              "      <th></th>\n",
              "      <th>Variable</th>\n",
              "      <th>Importance</th>\n",
              "    </tr>\n",
              "  </thead>\n",
              "  <tbody>\n",
              "    <tr>\n",
              "      <th>1</th>\n",
              "      <td>duration</td>\n",
              "      <td>0.599128</td>\n",
              "    </tr>\n",
              "    <tr>\n",
              "      <th>3</th>\n",
              "      <td>emp.var.rate</td>\n",
              "      <td>0.181145</td>\n",
              "    </tr>\n",
              "    <tr>\n",
              "      <th>4</th>\n",
              "      <td>cons.conf.idx</td>\n",
              "      <td>0.044780</td>\n",
              "    </tr>\n",
              "    <tr>\n",
              "      <th>33</th>\n",
              "      <td>month_mar</td>\n",
              "      <td>0.035694</td>\n",
              "    </tr>\n",
              "    <tr>\n",
              "      <th>42</th>\n",
              "      <td>previous_not_contacted</td>\n",
              "      <td>0.026428</td>\n",
              "    </tr>\n",
              "    <tr>\n",
              "      <th>36</th>\n",
              "      <td>month_oct</td>\n",
              "      <td>0.020813</td>\n",
              "    </tr>\n",
              "    <tr>\n",
              "      <th>34</th>\n",
              "      <td>month_may</td>\n",
              "      <td>0.018350</td>\n",
              "    </tr>\n",
              "    <tr>\n",
              "      <th>0</th>\n",
              "      <td>age</td>\n",
              "      <td>0.010463</td>\n",
              "    </tr>\n",
              "    <tr>\n",
              "      <th>28</th>\n",
              "      <td>contact_telephone</td>\n",
              "      <td>0.007275</td>\n",
              "    </tr>\n",
              "    <tr>\n",
              "      <th>38</th>\n",
              "      <td>day_of_week_mon</td>\n",
              "      <td>0.006764</td>\n",
              "    </tr>\n",
              "    <tr>\n",
              "      <th>26</th>\n",
              "      <td>default_unknown</td>\n",
              "      <td>0.006426</td>\n",
              "    </tr>\n",
              "    <tr>\n",
              "      <th>39</th>\n",
              "      <td>day_of_week_thu</td>\n",
              "      <td>0.004548</td>\n",
              "    </tr>\n",
              "    <tr>\n",
              "      <th>24</th>\n",
              "      <td>education_university.degree</td>\n",
              "      <td>0.004441</td>\n",
              "    </tr>\n",
              "    <tr>\n",
              "      <th>5</th>\n",
              "      <td>job_blue-collar</td>\n",
              "      <td>0.003101</td>\n",
              "    </tr>\n",
              "    <tr>\n",
              "      <th>13</th>\n",
              "      <td>job_technician</td>\n",
              "      <td>0.002998</td>\n",
              "    </tr>\n",
              "    <tr>\n",
              "      <th>17</th>\n",
              "      <td>marital_single</td>\n",
              "      <td>0.002940</td>\n",
              "    </tr>\n",
              "    <tr>\n",
              "      <th>11</th>\n",
              "      <td>job_services</td>\n",
              "      <td>0.002738</td>\n",
              "    </tr>\n",
              "    <tr>\n",
              "      <th>40</th>\n",
              "      <td>day_of_week_tue</td>\n",
              "      <td>0.002584</td>\n",
              "    </tr>\n",
              "    <tr>\n",
              "      <th>44</th>\n",
              "      <td>poutcome_success</td>\n",
              "      <td>0.002416</td>\n",
              "    </tr>\n",
              "    <tr>\n",
              "      <th>41</th>\n",
              "      <td>day_of_week_wed</td>\n",
              "      <td>0.002384</td>\n",
              "    </tr>\n",
              "  </tbody>\n",
              "</table>\n",
              "</div>"
            ],
            "text/plain": [
              "                       Variable  Importance\n",
              "1                      duration    0.599128\n",
              "3                  emp.var.rate    0.181145\n",
              "4                 cons.conf.idx    0.044780\n",
              "33                    month_mar    0.035694\n",
              "42       previous_not_contacted    0.026428\n",
              "36                    month_oct    0.020813\n",
              "34                    month_may    0.018350\n",
              "0                           age    0.010463\n",
              "28            contact_telephone    0.007275\n",
              "38              day_of_week_mon    0.006764\n",
              "26              default_unknown    0.006426\n",
              "39              day_of_week_thu    0.004548\n",
              "24  education_university.degree    0.004441\n",
              "5               job_blue-collar    0.003101\n",
              "13               job_technician    0.002998\n",
              "17               marital_single    0.002940\n",
              "11                 job_services    0.002738\n",
              "40              day_of_week_tue    0.002584\n",
              "44             poutcome_success    0.002416\n",
              "41              day_of_week_wed    0.002384"
            ]
          },
          "metadata": {
            "tags": []
          },
          "execution_count": 35
        }
      ]
    },
    {
      "cell_type": "code",
      "metadata": {
        "id": "F7YmTFVXPT4N"
      },
      "source": [
        ""
      ],
      "execution_count": 35,
      "outputs": []
    },
    {
      "cell_type": "code",
      "metadata": {
        "id": "UURWxhs7NG1E"
      },
      "source": [
        "#random forest\n",
        "rf = RandomForestClassifier(n_estimators = 200, max_depth = 10, bootstrap = True, max_samples = 0.7, random_state = 1)\n",
        "rf = rf.fit(X_train_smote, y_train_smote)"
      ],
      "execution_count": 36,
      "outputs": []
    },
    {
      "cell_type": "code",
      "metadata": {
        "colab": {
          "base_uri": "https://localhost:8080/"
        },
        "id": "R009URybNWgE",
        "outputId": "880c38ed-0b3c-4ad5-ea15-1e906a9bf503"
      },
      "source": [
        "#train performance\n",
        "y_prob = rf.predict_proba(X_train)[:,1]\n",
        "y_pred = rf.predict(X_train)\n",
        "accuracy_metrics(y_train, y_pred, y_prob)"
      ],
      "execution_count": 37,
      "outputs": [
        {
          "output_type": "stream",
          "text": [
            "Confusion Matrix :\n",
            "[[22962  4449]\n",
            " [  183  3297]]\n",
            "Accuracy Score : 0.8500534136156161\n",
            "Precision :  0.42563903950426024\n",
            "Recall :  0.9474137931034483\n",
            "FI Score :  0.7478826259054367\n",
            "Area under the Curve :  0.9464390606673971\n"
          ],
          "name": "stdout"
        }
      ]
    },
    {
      "cell_type": "code",
      "metadata": {
        "colab": {
          "base_uri": "https://localhost:8080/"
        },
        "id": "g9ASOIWdNfqK",
        "outputId": "1d03b568-9b1f-491c-e110-6eb371110c56"
      },
      "source": [
        "#test performance\n",
        "y_prob = rf.predict_proba(X_test)[:,1]\n",
        "y_pred = rf.predict(X_test)\n",
        "accuracy_metrics(y_test, y_pred, y_prob)"
      ],
      "execution_count": 38,
      "outputs": [
        {
          "output_type": "stream",
          "text": [
            "Confusion Matrix :\n",
            "[[7598 1539]\n",
            " [  57 1103]]\n",
            "Accuracy Score : 0.8450033990482665\n",
            "Precision :  0.4174867524602574\n",
            "Recall :  0.9508620689655173\n",
            "FI Score :  0.7425878383509193\n",
            "Area under the Curve :  0.942361108490299\n"
          ],
          "name": "stdout"
        }
      ]
    },
    {
      "cell_type": "markdown",
      "metadata": {
        "id": "3gbxP3PJPVNI"
      },
      "source": [
        "I will finally select random forest model to use to make strategies for my marketing campaign. As this is a marketing campaign, my main focus is to drive as much conversion as possible. So, the metric which is most important us is \"recall\". Here, we are getting 95% recall by targeting just 26% of overall users. This model reduces the marketing cost by 74%."
      ]
    },
    {
      "cell_type": "code",
      "metadata": {
        "colab": {
          "base_uri": "https://localhost:8080/",
          "height": 639
        },
        "id": "kJBJ88fAMKrZ",
        "outputId": "f07f07e2-6851-4364-f2d7-e1428e8be498"
      },
      "source": [
        "#variable importance\n",
        "importance = rf.feature_importances_\n",
        "\n",
        "columns = ['Variable', 'Importance']\n",
        "lst = []\n",
        "for i,v in enumerate(importance):\n",
        "    lst.append([X.columns[i], v])\n",
        "    \n",
        "var_imp = pd.DataFrame(lst, columns = columns)\n",
        "var_imp = var_imp.sort_values(by = ['Importance'], ascending = False)\n",
        "var_imp.head(20)"
      ],
      "execution_count": 39,
      "outputs": [
        {
          "output_type": "execute_result",
          "data": {
            "text/html": [
              "<div>\n",
              "<style scoped>\n",
              "    .dataframe tbody tr th:only-of-type {\n",
              "        vertical-align: middle;\n",
              "    }\n",
              "\n",
              "    .dataframe tbody tr th {\n",
              "        vertical-align: top;\n",
              "    }\n",
              "\n",
              "    .dataframe thead th {\n",
              "        text-align: right;\n",
              "    }\n",
              "</style>\n",
              "<table border=\"1\" class=\"dataframe\">\n",
              "  <thead>\n",
              "    <tr style=\"text-align: right;\">\n",
              "      <th></th>\n",
              "      <th>Variable</th>\n",
              "      <th>Importance</th>\n",
              "    </tr>\n",
              "  </thead>\n",
              "  <tbody>\n",
              "    <tr>\n",
              "      <th>1</th>\n",
              "      <td>duration</td>\n",
              "      <td>0.415143</td>\n",
              "    </tr>\n",
              "    <tr>\n",
              "      <th>3</th>\n",
              "      <td>emp.var.rate</td>\n",
              "      <td>0.145981</td>\n",
              "    </tr>\n",
              "    <tr>\n",
              "      <th>4</th>\n",
              "      <td>cons.conf.idx</td>\n",
              "      <td>0.085553</td>\n",
              "    </tr>\n",
              "    <tr>\n",
              "      <th>28</th>\n",
              "      <td>contact_telephone</td>\n",
              "      <td>0.043009</td>\n",
              "    </tr>\n",
              "    <tr>\n",
              "      <th>42</th>\n",
              "      <td>previous_not_contacted</td>\n",
              "      <td>0.038628</td>\n",
              "    </tr>\n",
              "    <tr>\n",
              "      <th>44</th>\n",
              "      <td>poutcome_success</td>\n",
              "      <td>0.035923</td>\n",
              "    </tr>\n",
              "    <tr>\n",
              "      <th>26</th>\n",
              "      <td>default_unknown</td>\n",
              "      <td>0.032504</td>\n",
              "    </tr>\n",
              "    <tr>\n",
              "      <th>34</th>\n",
              "      <td>month_may</td>\n",
              "      <td>0.029674</td>\n",
              "    </tr>\n",
              "    <tr>\n",
              "      <th>43</th>\n",
              "      <td>poutcome_nonexistent</td>\n",
              "      <td>0.028184</td>\n",
              "    </tr>\n",
              "    <tr>\n",
              "      <th>0</th>\n",
              "      <td>age</td>\n",
              "      <td>0.017769</td>\n",
              "    </tr>\n",
              "    <tr>\n",
              "      <th>36</th>\n",
              "      <td>month_oct</td>\n",
              "      <td>0.013363</td>\n",
              "    </tr>\n",
              "    <tr>\n",
              "      <th>5</th>\n",
              "      <td>job_blue-collar</td>\n",
              "      <td>0.011482</td>\n",
              "    </tr>\n",
              "    <tr>\n",
              "      <th>33</th>\n",
              "      <td>month_mar</td>\n",
              "      <td>0.010965</td>\n",
              "    </tr>\n",
              "    <tr>\n",
              "      <th>9</th>\n",
              "      <td>job_retired</td>\n",
              "      <td>0.007807</td>\n",
              "    </tr>\n",
              "    <tr>\n",
              "      <th>40</th>\n",
              "      <td>day_of_week_tue</td>\n",
              "      <td>0.007737</td>\n",
              "    </tr>\n",
              "    <tr>\n",
              "      <th>24</th>\n",
              "      <td>education_university.degree</td>\n",
              "      <td>0.007701</td>\n",
              "    </tr>\n",
              "    <tr>\n",
              "      <th>38</th>\n",
              "      <td>day_of_week_mon</td>\n",
              "      <td>0.007431</td>\n",
              "    </tr>\n",
              "    <tr>\n",
              "      <th>20</th>\n",
              "      <td>education_basic.9y</td>\n",
              "      <td>0.005189</td>\n",
              "    </tr>\n",
              "    <tr>\n",
              "      <th>39</th>\n",
              "      <td>day_of_week_thu</td>\n",
              "      <td>0.004880</td>\n",
              "    </tr>\n",
              "    <tr>\n",
              "      <th>11</th>\n",
              "      <td>job_services</td>\n",
              "      <td>0.004847</td>\n",
              "    </tr>\n",
              "  </tbody>\n",
              "</table>\n",
              "</div>"
            ],
            "text/plain": [
              "                       Variable  Importance\n",
              "1                      duration    0.415143\n",
              "3                  emp.var.rate    0.145981\n",
              "4                 cons.conf.idx    0.085553\n",
              "28            contact_telephone    0.043009\n",
              "42       previous_not_contacted    0.038628\n",
              "44             poutcome_success    0.035923\n",
              "26              default_unknown    0.032504\n",
              "34                    month_may    0.029674\n",
              "43         poutcome_nonexistent    0.028184\n",
              "0                           age    0.017769\n",
              "36                    month_oct    0.013363\n",
              "5               job_blue-collar    0.011482\n",
              "33                    month_mar    0.010965\n",
              "9                   job_retired    0.007807\n",
              "40              day_of_week_tue    0.007737\n",
              "24  education_university.degree    0.007701\n",
              "38              day_of_week_mon    0.007431\n",
              "20           education_basic.9y    0.005189\n",
              "39              day_of_week_thu    0.004880\n",
              "11                 job_services    0.004847"
            ]
          },
          "metadata": {
            "tags": []
          },
          "execution_count": 39
        }
      ]
    },
    {
      "cell_type": "code",
      "metadata": {
        "id": "HiTpeXhDO0v-"
      },
      "source": [
        ""
      ],
      "execution_count": 39,
      "outputs": []
    }
  ]
}